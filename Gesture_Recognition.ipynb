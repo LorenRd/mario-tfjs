{
  "nbformat": 4,
  "nbformat_minor": 0,
  "metadata": {
    "colab": {
      "name": "Gesture Recognition",
      "provenance": [],
      "toc_visible": true
    },
    "kernelspec": {
      "name": "python3",
      "display_name": "Python 3"
    },
    "accelerator": "GPU"
  },
  "cells": [
    {
      "cell_type": "markdown",
      "metadata": {
        "id": "Jro1jRjf_eT4"
      },
      "source": [
        "# Entrenando un clasificador personalizado"
      ]
    },
    {
      "cell_type": "markdown",
      "metadata": {
        "id": "hdWW9v9PUT4i"
      },
      "source": [
        "Vamos a proceder a entrenar un clasificador preentrenado con imágenes de Imagenet para que sea capaz de detectar nuestras clases a partir de un dataset creado por nosotros"
      ]
    },
    {
      "cell_type": "markdown",
      "metadata": {
        "id": "U9T2GK0tARU8"
      },
      "source": [
        "## Librerías"
      ]
    },
    {
      "cell_type": "code",
      "metadata": {
        "id": "iAeCcwNTAP4z"
      },
      "source": [
        "import numpy as np\r\n",
        "import time\r\n",
        "\r\n",
        "import PIL.Image as Image\r\n",
        "import matplotlib.pylab as plt\r\n",
        "\r\n",
        "import tensorflow as tf\r\n",
        "import tensorflow_hub as hub"
      ],
      "execution_count": null,
      "outputs": []
    },
    {
      "cell_type": "code",
      "metadata": {
        "colab": {
          "base_uri": "https://localhost:8080/"
        },
        "id": "oSJ8BHaHbDzr",
        "outputId": "3bbf997d-ac56-46a6-a742-fd0d265a79cf"
      },
      "source": [
        "!sudo apt-get install zip"
      ],
      "execution_count": null,
      "outputs": [
        {
          "output_type": "stream",
          "text": [
            "Reading package lists... Done\n",
            "Building dependency tree       \n",
            "Reading state information... Done\n",
            "zip is already the newest version (3.0-11build1).\n",
            "0 upgraded, 0 newly installed, 0 to remove and 15 not upgraded.\n"
          ],
          "name": "stdout"
        }
      ]
    },
    {
      "cell_type": "markdown",
      "metadata": {
        "id": "qZwvjahXAMA-"
      },
      "source": [
        "## Dataset"
      ]
    },
    {
      "cell_type": "markdown",
      "metadata": {
        "id": "0HjUq8RHUddW"
      },
      "source": [
        "Procedemos a descargar nuestro dataset"
      ]
    },
    {
      "cell_type": "code",
      "metadata": {
        "colab": {
          "base_uri": "https://localhost:8080/"
        },
        "id": "OmRvEkQLbw7S",
        "outputId": "d1974218-373d-488c-829c-5b21c6c6b923"
      },
      "source": [
        "!wget https://mario-tf.s3.eu-west-3.amazonaws.com/Dataset.zip"
      ],
      "execution_count": null,
      "outputs": [
        {
          "output_type": "stream",
          "text": [
            "--2021-02-07 12:26:51--  https://mario-tf.s3.eu-west-3.amazonaws.com/Dataset.zip\n",
            "Resolving mario-tf.s3.eu-west-3.amazonaws.com (mario-tf.s3.eu-west-3.amazonaws.com)... 52.95.154.56\n",
            "Connecting to mario-tf.s3.eu-west-3.amazonaws.com (mario-tf.s3.eu-west-3.amazonaws.com)|52.95.154.56|:443... connected.\n",
            "HTTP request sent, awaiting response... 200 OK\n",
            "Length: 1737176090 (1.6G) [application/zip]\n",
            "Saving to: ‘Dataset.zip.1’\n",
            "\n",
            "Dataset.zip.1       100%[===================>]   1.62G  36.9MB/s    in 46s     \n",
            "\n",
            "2021-02-07 12:27:38 (36.1 MB/s) - ‘Dataset.zip.1’ saved [1737176090/1737176090]\n",
            "\n"
          ],
          "name": "stdout"
        }
      ]
    },
    {
      "cell_type": "code",
      "metadata": {
        "colab": {
          "base_uri": "https://localhost:8080/"
        },
        "id": "6vNAEqBrcJJC",
        "outputId": "45355728-1c26-4581-f6bd-23a7df1a04f6"
      },
      "source": [
        "!unzip Dataset.zip -q"
      ],
      "execution_count": null,
      "outputs": [
        {
          "output_type": "stream",
          "text": [
            "Archive:  Dataset.zip\n",
            "caution: filename not matched:  -q\n"
          ],
          "name": "stdout"
        }
      ]
    },
    {
      "cell_type": "markdown",
      "metadata": {
        "id": "2GPNgCZY_k8y"
      },
      "source": [
        "Fijamos los parámetros del tamaño de la imagen y del batch"
      ]
    },
    {
      "cell_type": "code",
      "metadata": {
        "colab": {
          "base_uri": "https://localhost:8080/"
        },
        "id": "03R6XIvxHxh5",
        "outputId": "11c567f4-80b6-42bb-95f8-5d1d252f7dd1"
      },
      "source": [
        "batch_size = 32\r\n",
        "img_height = 224\r\n",
        "img_width = 224\r\n",
        "\r\n",
        "train_ds = tf.keras.preprocessing.image_dataset_from_directory(\r\n",
        "  '/content/Dataset',\r\n",
        "  validation_split=0.2,\r\n",
        "  subset=\"training\",\r\n",
        "  seed=123,\r\n",
        "  image_size=(img_height, img_width),\r\n",
        "  batch_size=batch_size)"
      ],
      "execution_count": null,
      "outputs": [
        {
          "output_type": "stream",
          "text": [
            "Found 512 files belonging to 5 classes.\n",
            "Using 410 files for training.\n"
          ],
          "name": "stdout"
        }
      ]
    },
    {
      "cell_type": "markdown",
      "metadata": {
        "id": "bsIse3Je_qiI"
      },
      "source": [
        "Vemos las 5 clases preestablecidas que coinciden con los movimientos del personaje"
      ]
    },
    {
      "cell_type": "code",
      "metadata": {
        "colab": {
          "base_uri": "https://localhost:8080/"
        },
        "id": "9MohBxj2Hyn2",
        "outputId": "d16ebf60-f2a8-40be-87f3-480484333278"
      },
      "source": [
        "class_names = np.array(train_ds.class_names)\r\n",
        "print(class_names)"
      ],
      "execution_count": null,
      "outputs": [
        {
          "output_type": "stream",
          "text": [
            "['back' 'back_jump' 'forward' 'forward_jump' 'jump']\n"
          ],
          "name": "stdout"
        }
      ]
    },
    {
      "cell_type": "code",
      "metadata": {
        "id": "GHmASkPwCpnH"
      },
      "source": [
        "AUTOTUNE = tf.data.AUTOTUNE\r\n",
        "train_ds = train_ds.cache().prefetch(buffer_size=AUTOTUNE)"
      ],
      "execution_count": null,
      "outputs": []
    },
    {
      "cell_type": "code",
      "metadata": {
        "colab": {
          "base_uri": "https://localhost:8080/"
        },
        "id": "yDgflBUzCp7i",
        "outputId": "825db351-df55-44f7-c770-e640fd355b07"
      },
      "source": [
        "for image_batch, labels_batch in train_ds:\r\n",
        "  print(image_batch.shape)\r\n",
        "  print(labels_batch.shape)\r\n",
        "  break"
      ],
      "execution_count": null,
      "outputs": [
        {
          "output_type": "stream",
          "text": [
            "(32, 224, 224, 3)\n",
            "(32,)\n"
          ],
          "name": "stdout"
        }
      ]
    },
    {
      "cell_type": "markdown",
      "metadata": {
        "id": "L2BqPYLoAWng"
      },
      "source": [
        "## Descargando el clasificador"
      ]
    },
    {
      "cell_type": "markdown",
      "metadata": {
        "id": "rdnKln_xAl4u"
      },
      "source": [
        "\r\n",
        "En este caso vamos a descargar un modelo ligero [MobileNetV2 model](https://tfhub.dev/google/tf2-preview/mobilenet_v2/classification/2) desde el Hub de Tensorflow. Cualquier [clasificador compatible de estos](https://tfhub.dev/s?q=tf2&module-type=image-classification) funcionaría."
      ]
    },
    {
      "cell_type": "code",
      "metadata": {
        "id": "xkEwQ38uAddH"
      },
      "source": [
        "feature_extractor_model = \"https://tfhub.dev/google/tf2-preview/mobilenet_v2/feature_vector/4\" #@param {type:\"string\"}"
      ],
      "execution_count": null,
      "outputs": []
    },
    {
      "cell_type": "code",
      "metadata": {
        "id": "UxeCBNkL_wJT"
      },
      "source": [
        "feature_extractor_layer = hub.KerasLayer(\r\n",
        "    feature_extractor_model, input_shape=(224, 224, 3), trainable=False)"
      ],
      "execution_count": null,
      "outputs": []
    },
    {
      "cell_type": "code",
      "metadata": {
        "colab": {
          "base_uri": "https://localhost:8080/"
        },
        "id": "KA4xXV5HD9zc",
        "outputId": "2adb0ec3-7595-438a-ccdb-011ab31359bf"
      },
      "source": [
        "feature_batch = feature_extractor_layer(image_batch)\r\n",
        "print(feature_batch.shape)"
      ],
      "execution_count": null,
      "outputs": [
        {
          "output_type": "stream",
          "text": [
            "(32, 1280)\n"
          ],
          "name": "stdout"
        }
      ]
    },
    {
      "cell_type": "markdown",
      "metadata": {
        "id": "uqZKm5akBzqI"
      },
      "source": [
        "Añadimos las ultimas capas al modelo para que sea capaz de clasificar nuestras 5 clases"
      ]
    },
    {
      "cell_type": "code",
      "metadata": {
        "colab": {
          "base_uri": "https://localhost:8080/"
        },
        "id": "4k5hyLozEApw",
        "outputId": "110fcc84-6c7d-4bed-bc03-dc92974472b7"
      },
      "source": [
        "num_classes = len(class_names)\r\n",
        "\r\n",
        "model = tf.keras.Sequential([\r\n",
        "  feature_extractor_layer,\r\n",
        "  tf.keras.layers.Dense(num_classes)\r\n",
        "])\r\n",
        "\r\n",
        "model.summary()"
      ],
      "execution_count": null,
      "outputs": [
        {
          "output_type": "stream",
          "text": [
            "Model: \"sequential_1\"\n",
            "_________________________________________________________________\n",
            "Layer (type)                 Output Shape              Param #   \n",
            "=================================================================\n",
            "keras_layer_1 (KerasLayer)   (None, 1280)              2257984   \n",
            "_________________________________________________________________\n",
            "dense_1 (Dense)              (None, 5)                 6405      \n",
            "=================================================================\n",
            "Total params: 2,264,389\n",
            "Trainable params: 6,405\n",
            "Non-trainable params: 2,257,984\n",
            "_________________________________________________________________\n"
          ],
          "name": "stdout"
        }
      ]
    },
    {
      "cell_type": "code",
      "metadata": {
        "id": "NrGFWM8GECJ0"
      },
      "source": [
        "predictions = model(image_batch)"
      ],
      "execution_count": null,
      "outputs": []
    },
    {
      "cell_type": "code",
      "metadata": {
        "colab": {
          "base_uri": "https://localhost:8080/"
        },
        "id": "kSBRFu46ECy5",
        "outputId": "0900a4dc-85c5-4276-dc15-155171d4a1d4"
      },
      "source": [
        "predictions.shape"
      ],
      "execution_count": null,
      "outputs": [
        {
          "output_type": "execute_result",
          "data": {
            "text/plain": [
              "TensorShape([32, 5])"
            ]
          },
          "metadata": {
            "tags": []
          },
          "execution_count": 65
        }
      ]
    },
    {
      "cell_type": "markdown",
      "metadata": {
        "id": "vbeACYDPEG0e"
      },
      "source": [
        "## Entrenamos el modelo"
      ]
    },
    {
      "cell_type": "code",
      "metadata": {
        "id": "1kzd_zDCEGSv"
      },
      "source": [
        "model.compile(\r\n",
        "  optimizer=tf.keras.optimizers.Adam(),\r\n",
        "  loss=tf.keras.losses.SparseCategoricalCrossentropy(from_logits=True),\r\n",
        "  metrics=['acc'])"
      ],
      "execution_count": null,
      "outputs": []
    },
    {
      "cell_type": "code",
      "metadata": {
        "colab": {
          "base_uri": "https://localhost:8080/"
        },
        "id": "MxdnaJm2ITYg",
        "outputId": "b723cbff-57f2-4b3c-9be8-a716b05edd6a"
      },
      "source": [
        "!nvidia-smi"
      ],
      "execution_count": null,
      "outputs": [
        {
          "output_type": "stream",
          "text": [
            "Sun Feb  7 12:28:01 2021       \n",
            "+-----------------------------------------------------------------------------+\n",
            "| NVIDIA-SMI 460.39       Driver Version: 418.67       CUDA Version: 10.1     |\n",
            "|-------------------------------+----------------------+----------------------+\n",
            "| GPU  Name        Persistence-M| Bus-Id        Disp.A | Volatile Uncorr. ECC |\n",
            "| Fan  Temp  Perf  Pwr:Usage/Cap|         Memory-Usage | GPU-Util  Compute M. |\n",
            "|                               |                      |               MIG M. |\n",
            "|===============================+======================+======================|\n",
            "|   0  Tesla T4            Off  | 00000000:00:04.0 Off |                    0 |\n",
            "| N/A   70C    P0    53W /  70W |   2679MiB / 15079MiB |     20%      Default |\n",
            "|                               |                      |                 ERR! |\n",
            "+-------------------------------+----------------------+----------------------+\n",
            "                                                                               \n",
            "+-----------------------------------------------------------------------------+\n",
            "| Processes:                                                                  |\n",
            "|  GPU   GI   CI        PID   Type   Process name                  GPU Memory |\n",
            "|        ID   ID                                                   Usage      |\n",
            "|=============================================================================|\n",
            "|  No running processes found                                                 |\n",
            "+-----------------------------------------------------------------------------+\n"
          ],
          "name": "stdout"
        }
      ]
    },
    {
      "cell_type": "code",
      "metadata": {
        "colab": {
          "base_uri": "https://localhost:8080/"
        },
        "id": "w186eNm5EK8p",
        "outputId": "2ccec14e-716c-48c9-b23c-28aa6defc0b5"
      },
      "source": [
        "class CollectBatchStats(tf.keras.callbacks.Callback):\r\n",
        "  def __init__(self):\r\n",
        "    self.batch_losses = []\r\n",
        "    self.batch_acc = []\r\n",
        "\r\n",
        "  def on_train_batch_end(self, batch, logs=None):\r\n",
        "    self.batch_losses.append(logs['loss'])\r\n",
        "    self.batch_acc.append(logs['acc'])\r\n",
        "    self.model.reset_metrics()\r\n",
        "\r\n",
        "batch_stats_callback = CollectBatchStats()\r\n",
        "\r\n",
        "history = model.fit(train_ds, epochs=20,\r\n",
        "                    callbacks=[batch_stats_callback])"
      ],
      "execution_count": null,
      "outputs": [
        {
          "output_type": "stream",
          "text": [
            "Epoch 1/20\n",
            "13/13 [==============================] - 33s 803ms/step - loss: 1.8474 - acc: 0.2603\n",
            "Epoch 2/20\n",
            "13/13 [==============================] - 0s 36ms/step - loss: 1.5672 - acc: 0.3139\n",
            "Epoch 3/20\n",
            "13/13 [==============================] - 0s 37ms/step - loss: 1.4948 - acc: 0.3340\n",
            "Epoch 4/20\n",
            "13/13 [==============================] - 0s 37ms/step - loss: 1.4143 - acc: 0.4274\n",
            "Epoch 5/20\n",
            "13/13 [==============================] - 0s 37ms/step - loss: 1.3636 - acc: 0.4542\n",
            "Epoch 6/20\n",
            "13/13 [==============================] - 0s 37ms/step - loss: 1.3160 - acc: 0.4942\n",
            "Epoch 7/20\n",
            "13/13 [==============================] - 0s 36ms/step - loss: 1.2724 - acc: 0.5299\n",
            "Epoch 8/20\n",
            "13/13 [==============================] - 0s 37ms/step - loss: 1.2326 - acc: 0.5555\n",
            "Epoch 9/20\n",
            "13/13 [==============================] - 0s 37ms/step - loss: 1.1953 - acc: 0.5743\n",
            "Epoch 10/20\n",
            "13/13 [==============================] - 0s 37ms/step - loss: 1.1611 - acc: 0.5900\n",
            "Epoch 11/20\n",
            "13/13 [==============================] - 0s 37ms/step - loss: 1.1290 - acc: 0.6111\n",
            "Epoch 12/20\n",
            "13/13 [==============================] - 0s 37ms/step - loss: 1.0988 - acc: 0.6223\n",
            "Epoch 13/20\n",
            "13/13 [==============================] - 0s 38ms/step - loss: 1.0703 - acc: 0.6401\n",
            "Epoch 14/20\n",
            "13/13 [==============================] - 0s 37ms/step - loss: 1.0434 - acc: 0.6602\n",
            "Epoch 15/20\n",
            "13/13 [==============================] - 0s 37ms/step - loss: 1.0179 - acc: 0.6714\n",
            "Epoch 16/20\n",
            "13/13 [==============================] - 0s 37ms/step - loss: 0.9936 - acc: 0.6913\n",
            "Epoch 17/20\n",
            "13/13 [==============================] - 0s 37ms/step - loss: 0.9705 - acc: 0.7136\n",
            "Epoch 18/20\n",
            "13/13 [==============================] - 0s 38ms/step - loss: 0.9484 - acc: 0.7236\n",
            "Epoch 19/20\n",
            "13/13 [==============================] - 0s 37ms/step - loss: 0.9273 - acc: 0.7357\n",
            "Epoch 20/20\n",
            "13/13 [==============================] - 0s 37ms/step - loss: 0.9070 - acc: 0.7402\n"
          ],
          "name": "stdout"
        }
      ]
    },
    {
      "cell_type": "markdown",
      "metadata": {
        "id": "lBKBv_mqABCn"
      },
      "source": [
        "Visualizamos el decremento del error"
      ]
    },
    {
      "cell_type": "code",
      "metadata": {
        "colab": {
          "base_uri": "https://localhost:8080/",
          "height": 300
        },
        "id": "JZEN1acDEZeS",
        "outputId": "f36c042c-e409-4840-e03a-d8788f37f1d7"
      },
      "source": [
        "plt.figure()\r\n",
        "plt.ylabel(\"Loss\")\r\n",
        "plt.xlabel(\"Training Steps\")\r\n",
        "plt.ylim([0,2])\r\n",
        "plt.plot(batch_stats_callback.batch_losses)"
      ],
      "execution_count": null,
      "outputs": [
        {
          "output_type": "execute_result",
          "data": {
            "text/plain": [
              "[<matplotlib.lines.Line2D at 0x7f04b790fe10>]"
            ]
          },
          "metadata": {
            "tags": []
          },
          "execution_count": 69
        },
        {
          "output_type": "display_data",
          "data": {
            "image/png": "[encoded data removed]",
            "text/plain": [
              "<Figure size 432x288 with 1 Axes>"
            ]
          },
          "metadata": {
            "tags": [],
            "needs_background": "light"
          }
        }
      ]
    },
    {
      "cell_type": "markdown",
      "metadata": {
        "id": "rmqTSltQADjL"
      },
      "source": [
        "Y el incremento de la precisión a medida que pasan las epocas"
      ]
    },
    {
      "cell_type": "code",
      "metadata": {
        "colab": {
          "base_uri": "https://localhost:8080/",
          "height": 300
        },
        "id": "dsj4zfZtEbgt",
        "outputId": "095dabea-d667-45dc-98e3-84fb8b73b5f3"
      },
      "source": [
        "plt.figure()\r\n",
        "plt.ylabel(\"Accuracy\")\r\n",
        "plt.xlabel(\"Training Steps\")\r\n",
        "plt.ylim([0,1])\r\n",
        "plt.plot(batch_stats_callback.batch_acc)"
      ],
      "execution_count": null,
      "outputs": [
        {
          "output_type": "execute_result",
          "data": {
            "text/plain": [
              "[<matplotlib.lines.Line2D at 0x7f04b78d6780>]"
            ]
          },
          "metadata": {
            "tags": []
          },
          "execution_count": 70
        },
        {
          "output_type": "display_data",
          "data": {
            "image/png": "[encoded data removed]",
            "text/plain": [
              "<Figure size 432x288 with 1 Axes>"
            ]
          },
          "metadata": {
            "tags": [],
            "needs_background": "light"
          }
        }
      ]
    },
    {
      "cell_type": "code",
      "metadata": {
        "id": "sDl9bfJvEhRL"
      },
      "source": [
        "predicted_batch = model.predict(image_batch)\r\n",
        "predicted_id = np.argmax(predicted_batch, axis=-1)\r\n",
        "predicted_label_batch = class_names[predicted_id]"
      ],
      "execution_count": null,
      "outputs": []
    },
    {
      "cell_type": "markdown",
      "metadata": {
        "id": "kY3iqEMOEKxD"
      },
      "source": [
        "## Exportamos el modelo"
      ]
    },
    {
      "cell_type": "code",
      "metadata": {
        "colab": {
          "base_uri": "https://localhost:8080/",
          "height": 69
        },
        "id": "7lf-YyCzEqRY",
        "outputId": "514f5905-696f-457e-8e6d-656cf71aefe4"
      },
      "source": [
        "export_path = \"/saved_models/gestures\"\r\n",
        "model.save(export_path)\r\n",
        "\r\n",
        "export_path"
      ],
      "execution_count": null,
      "outputs": [
        {
          "output_type": "stream",
          "text": [
            "INFO:tensorflow:Assets written to: /saved_models/gestures/assets\n"
          ],
          "name": "stdout"
        },
        {
          "output_type": "stream",
          "text": [
            "INFO:tensorflow:Assets written to: /saved_models/gestures/assets\n"
          ],
          "name": "stderr"
        },
        {
          "output_type": "execute_result",
          "data": {
            "application/vnd.google.colaboratory.intrinsic+json": {
              "type": "string"
            },
            "text/plain": [
              "'/saved_models/gestures'"
            ]
          },
          "metadata": {
            "tags": []
          },
          "execution_count": 81
        }
      ]
    },
    {
      "cell_type": "markdown",
      "metadata": {
        "id": "Gq71Zh1PEsgK"
      },
      "source": [
        "## Confirmamos que podemos volver a cargarlo"
      ]
    },
    {
      "cell_type": "code",
      "metadata": {
        "id": "R5RntDN2Ewe-"
      },
      "source": [
        "reloaded = tf.keras.models.load_model(export_path)"
      ],
      "execution_count": null,
      "outputs": []
    },
    {
      "cell_type": "code",
      "metadata": {
        "id": "i7xPSU8fEx6O"
      },
      "source": [
        "result_batch = model.predict(image_batch)\r\n",
        "reloaded_result_batch = reloaded.predict(image_batch)"
      ],
      "execution_count": null,
      "outputs": []
    },
    {
      "cell_type": "code",
      "metadata": {
        "colab": {
          "base_uri": "https://localhost:8080/"
        },
        "id": "YmTyifALEyfN",
        "outputId": "8a77231d-e8b4-4f3c-e30d-df9191476da3"
      },
      "source": [
        "abs(reloaded_result_batch - result_batch).max()"
      ],
      "execution_count": null,
      "outputs": [
        {
          "output_type": "execute_result",
          "data": {
            "text/plain": [
              "0.0"
            ]
          },
          "metadata": {
            "tags": []
          },
          "execution_count": 84
        }
      ]
    },
    {
      "cell_type": "markdown",
      "metadata": {
        "id": "HsIV03CjFkTf"
      },
      "source": [
        "## Exportamos a TF.js"
      ]
    },
    {
      "cell_type": "code",
      "metadata": {
        "colab": {
          "base_uri": "https://localhost:8080/"
        },
        "id": "fOlpq-_UJHOL",
        "outputId": "d33a014f-8b68-495d-d312-d6d93c21bc8a"
      },
      "source": [
        "!pip install tensorflowjs"
      ],
      "execution_count": null,
      "outputs": [
        {
          "output_type": "stream",
          "text": [
            "Requirement already satisfied: tensorflowjs in /usr/local/lib/python3.6/dist-packages (3.0.0)\n",
            "Requirement already satisfied: six<2,>=1.12.0 in /usr/local/lib/python3.6/dist-packages (from tensorflowjs) (1.15.0)\n",
            "Requirement already satisfied: h5py<3,>=2.8.0 in /usr/local/lib/python3.6/dist-packages (from tensorflowjs) (2.10.0)\n",
            "Requirement already satisfied: tensorflow-hub<0.10,>=0.7.0 in /usr/local/lib/python3.6/dist-packages (from tensorflowjs) (0.9.0)\n",
            "Requirement already satisfied: tensorflow<3,>=2.1.0 in /usr/local/lib/python3.6/dist-packages (from tensorflowjs) (2.4.1)\n",
            "Requirement already satisfied: numpy>=1.7 in /usr/local/lib/python3.6/dist-packages (from h5py<3,>=2.8.0->tensorflowjs) (1.19.5)\n",
            "Requirement already satisfied: protobuf>=3.8.0 in /usr/local/lib/python3.6/dist-packages (from tensorflow-hub<0.10,>=0.7.0->tensorflowjs) (3.12.4)\n",
            "Requirement already satisfied: google-pasta~=0.2 in /usr/local/lib/python3.6/dist-packages (from tensorflow<3,>=2.1.0->tensorflowjs) (0.2.0)\n",
            "Requirement already satisfied: absl-py~=0.10 in /usr/local/lib/python3.6/dist-packages (from tensorflow<3,>=2.1.0->tensorflowjs) (0.10.0)\n",
            "Requirement already satisfied: tensorboard~=2.4 in /usr/local/lib/python3.6/dist-packages (from tensorflow<3,>=2.1.0->tensorflowjs) (2.4.1)\n",
            "Requirement already satisfied: keras-preprocessing~=1.1.2 in /usr/local/lib/python3.6/dist-packages (from tensorflow<3,>=2.1.0->tensorflowjs) (1.1.2)\n",
            "Requirement already satisfied: opt-einsum~=3.3.0 in /usr/local/lib/python3.6/dist-packages (from tensorflow<3,>=2.1.0->tensorflowjs) (3.3.0)\n",
            "Requirement already satisfied: wheel~=0.35 in /usr/local/lib/python3.6/dist-packages (from tensorflow<3,>=2.1.0->tensorflowjs) (0.36.2)\n",
            "Requirement already satisfied: grpcio~=1.32.0 in /usr/local/lib/python3.6/dist-packages (from tensorflow<3,>=2.1.0->tensorflowjs) (1.32.0)\n",
            "Requirement already satisfied: wrapt~=1.12.1 in /usr/local/lib/python3.6/dist-packages (from tensorflow<3,>=2.1.0->tensorflowjs) (1.12.1)\n",
            "Requirement already satisfied: gast==0.3.3 in /usr/local/lib/python3.6/dist-packages (from tensorflow<3,>=2.1.0->tensorflowjs) (0.3.3)\n",
            "Requirement already satisfied: astunparse~=1.6.3 in /usr/local/lib/python3.6/dist-packages (from tensorflow<3,>=2.1.0->tensorflowjs) (1.6.3)\n",
            "Requirement already satisfied: flatbuffers~=1.12.0 in /usr/local/lib/python3.6/dist-packages (from tensorflow<3,>=2.1.0->tensorflowjs) (1.12)\n",
            "Requirement already satisfied: termcolor~=1.1.0 in /usr/local/lib/python3.6/dist-packages (from tensorflow<3,>=2.1.0->tensorflowjs) (1.1.0)\n",
            "Requirement already satisfied: tensorflow-estimator<2.5.0,>=2.4.0 in /usr/local/lib/python3.6/dist-packages (from tensorflow<3,>=2.1.0->tensorflowjs) (2.4.0)\n",
            "Requirement already satisfied: typing-extensions~=3.7.4 in /usr/local/lib/python3.6/dist-packages (from tensorflow<3,>=2.1.0->tensorflowjs) (3.7.4.3)\n",
            "Requirement already satisfied: setuptools in /usr/local/lib/python3.6/dist-packages (from protobuf>=3.8.0->tensorflow-hub<0.10,>=0.7.0->tensorflowjs) (53.0.0)\n",
            "Requirement already satisfied: werkzeug>=0.11.15 in /usr/local/lib/python3.6/dist-packages (from tensorboard~=2.4->tensorflow<3,>=2.1.0->tensorflowjs) (1.0.1)\n",
            "Requirement already satisfied: requests<3,>=2.21.0 in /usr/local/lib/python3.6/dist-packages (from tensorboard~=2.4->tensorflow<3,>=2.1.0->tensorflowjs) (2.23.0)\n",
            "Requirement already satisfied: google-auth<2,>=1.6.3 in /usr/local/lib/python3.6/dist-packages (from tensorboard~=2.4->tensorflow<3,>=2.1.0->tensorflowjs) (1.24.0)\n",
            "Requirement already satisfied: tensorboard-plugin-wit>=1.6.0 in /usr/local/lib/python3.6/dist-packages (from tensorboard~=2.4->tensorflow<3,>=2.1.0->tensorflowjs) (1.8.0)\n",
            "Requirement already satisfied: google-auth-oauthlib<0.5,>=0.4.1 in /usr/local/lib/python3.6/dist-packages (from tensorboard~=2.4->tensorflow<3,>=2.1.0->tensorflowjs) (0.4.2)\n",
            "Requirement already satisfied: markdown>=2.6.8 in /usr/local/lib/python3.6/dist-packages (from tensorboard~=2.4->tensorflow<3,>=2.1.0->tensorflowjs) (3.3.3)\n",
            "Requirement already satisfied: idna<3,>=2.5 in /usr/local/lib/python3.6/dist-packages (from requests<3,>=2.21.0->tensorboard~=2.4->tensorflow<3,>=2.1.0->tensorflowjs) (2.10)\n",
            "Requirement already satisfied: urllib3!=1.25.0,!=1.25.1,<1.26,>=1.21.1 in /usr/local/lib/python3.6/dist-packages (from requests<3,>=2.21.0->tensorboard~=2.4->tensorflow<3,>=2.1.0->tensorflowjs) (1.24.3)\n",
            "Requirement already satisfied: chardet<4,>=3.0.2 in /usr/local/lib/python3.6/dist-packages (from requests<3,>=2.21.0->tensorboard~=2.4->tensorflow<3,>=2.1.0->tensorflowjs) (3.0.4)\n",
            "Requirement already satisfied: certifi>=2017.4.17 in /usr/local/lib/python3.6/dist-packages (from requests<3,>=2.21.0->tensorboard~=2.4->tensorflow<3,>=2.1.0->tensorflowjs) (2020.12.5)\n",
            "Requirement already satisfied: rsa<5,>=3.1.4; python_version >= \"3.6\" in /usr/local/lib/python3.6/dist-packages (from google-auth<2,>=1.6.3->tensorboard~=2.4->tensorflow<3,>=2.1.0->tensorflowjs) (4.7)\n",
            "Requirement already satisfied: pyasn1-modules>=0.2.1 in /usr/local/lib/python3.6/dist-packages (from google-auth<2,>=1.6.3->tensorboard~=2.4->tensorflow<3,>=2.1.0->tensorflowjs) (0.2.8)\n",
            "Requirement already satisfied: cachetools<5.0,>=2.0.0 in /usr/local/lib/python3.6/dist-packages (from google-auth<2,>=1.6.3->tensorboard~=2.4->tensorflow<3,>=2.1.0->tensorflowjs) (4.2.1)\n",
            "Requirement already satisfied: requests-oauthlib>=0.7.0 in /usr/local/lib/python3.6/dist-packages (from google-auth-oauthlib<0.5,>=0.4.1->tensorboard~=2.4->tensorflow<3,>=2.1.0->tensorflowjs) (1.3.0)\n",
            "Requirement already satisfied: importlib-metadata; python_version < \"3.8\" in /usr/local/lib/python3.6/dist-packages (from markdown>=2.6.8->tensorboard~=2.4->tensorflow<3,>=2.1.0->tensorflowjs) (3.4.0)\n",
            "Requirement already satisfied: pyasn1>=0.1.3 in /usr/local/lib/python3.6/dist-packages (from rsa<5,>=3.1.4; python_version >= \"3.6\"->google-auth<2,>=1.6.3->tensorboard~=2.4->tensorflow<3,>=2.1.0->tensorflowjs) (0.4.8)\n",
            "Requirement already satisfied: oauthlib>=3.0.0 in /usr/local/lib/python3.6/dist-packages (from requests-oauthlib>=0.7.0->google-auth-oauthlib<0.5,>=0.4.1->tensorboard~=2.4->tensorflow<3,>=2.1.0->tensorflowjs) (3.1.0)\n",
            "Requirement already satisfied: zipp>=0.5 in /usr/local/lib/python3.6/dist-packages (from importlib-metadata; python_version < \"3.8\"->markdown>=2.6.8->tensorboard~=2.4->tensorflow<3,>=2.1.0->tensorflowjs) (3.4.0)\n"
          ],
          "name": "stdout"
        }
      ]
    },
    {
      "cell_type": "code",
      "metadata": {
        "colab": {
          "base_uri": "https://localhost:8080/"
        },
        "id": "d0tMx4WBFuim",
        "outputId": "2f07776e-c489-475f-c8d5-ea697b555a85"
      },
      "source": [
        "!tensorflowjs_converter \\\r\n",
        "    --input_format=tf_saved_model \\\r\n",
        "    --output_format=tfjs_graph_model \\\r\n",
        "    --signature_name=serving_default \\\r\n",
        "    --saved_model_tags=serve \\\r\n",
        "    /saved_models/gestures \\\r\n",
        "    /mobilenet/web_model"
      ],
      "execution_count": null,
      "outputs": [
        {
          "output_type": "stream",
          "text": [
            "2021-02-07 12:32:16.374230: I tensorflow/stream_executor/platform/default/dso_loader.cc:49] Successfully opened dynamic library libcudart.so.10.1\n",
            "2021-02-07 12:32:18.117373: I tensorflow/compiler/jit/xla_cpu_device.cc:41] Not creating XLA devices, tf_xla_enable_xla_devices not set\n",
            "2021-02-07 12:32:18.118478: I tensorflow/stream_executor/platform/default/dso_loader.cc:49] Successfully opened dynamic library libcuda.so.1\n",
            "2021-02-07 12:32:18.123415: I tensorflow/stream_executor/cuda/cuda_gpu_executor.cc:941] successful NUMA node read from SysFS had negative value (-1), but there must be at least one NUMA node, so returning NUMA node zero\n",
            "2021-02-07 12:32:18.123989: I tensorflow/core/common_runtime/gpu/gpu_device.cc:1720] Found device 0 with properties: \n",
            "pciBusID: 0000:00:04.0 name: Tesla T4 computeCapability: 7.5\n",
            "coreClock: 1.59GHz coreCount: 40 deviceMemorySize: 14.73GiB deviceMemoryBandwidth: 298.08GiB/s\n",
            "2021-02-07 12:32:18.124052: I tensorflow/stream_executor/platform/default/dso_loader.cc:49] Successfully opened dynamic library libcudart.so.10.1\n",
            "2021-02-07 12:32:18.125804: I tensorflow/stream_executor/platform/default/dso_loader.cc:49] Successfully opened dynamic library libcublas.so.10\n",
            "2021-02-07 12:32:18.125872: I tensorflow/stream_executor/platform/default/dso_loader.cc:49] Successfully opened dynamic library libcublasLt.so.10\n",
            "2021-02-07 12:32:18.132934: I tensorflow/stream_executor/platform/default/dso_loader.cc:49] Successfully opened dynamic library libcufft.so.10\n",
            "2021-02-07 12:32:18.133320: I tensorflow/stream_executor/platform/default/dso_loader.cc:49] Successfully opened dynamic library libcurand.so.10\n",
            "2021-02-07 12:32:18.135059: I tensorflow/stream_executor/platform/default/dso_loader.cc:49] Successfully opened dynamic library libcusolver.so.10\n",
            "2021-02-07 12:32:18.136336: I tensorflow/stream_executor/platform/default/dso_loader.cc:49] Successfully opened dynamic library libcusparse.so.10\n",
            "2021-02-07 12:32:18.142968: I tensorflow/stream_executor/platform/default/dso_loader.cc:49] Successfully opened dynamic library libcudnn.so.7\n",
            "2021-02-07 12:32:18.143088: I tensorflow/stream_executor/cuda/cuda_gpu_executor.cc:941] successful NUMA node read from SysFS had negative value (-1), but there must be at least one NUMA node, so returning NUMA node zero\n",
            "2021-02-07 12:32:18.143668: I tensorflow/stream_executor/cuda/cuda_gpu_executor.cc:941] successful NUMA node read from SysFS had negative value (-1), but there must be at least one NUMA node, so returning NUMA node zero\n",
            "2021-02-07 12:32:18.144181: I tensorflow/core/common_runtime/gpu/gpu_device.cc:1862] Adding visible gpu devices: 0\n",
            "2021-02-07 12:32:18.144566: I tensorflow/compiler/jit/xla_gpu_device.cc:99] Not creating XLA devices, tf_xla_enable_xla_devices not set\n",
            "2021-02-07 12:32:18.144685: I tensorflow/stream_executor/cuda/cuda_gpu_executor.cc:941] successful NUMA node read from SysFS had negative value (-1), but there must be at least one NUMA node, so returning NUMA node zero\n",
            "2021-02-07 12:32:18.145200: I tensorflow/core/common_runtime/gpu/gpu_device.cc:1720] Found device 0 with properties: \n",
            "pciBusID: 0000:00:04.0 name: Tesla T4 computeCapability: 7.5\n",
            "coreClock: 1.59GHz coreCount: 40 deviceMemorySize: 14.73GiB deviceMemoryBandwidth: 298.08GiB/s\n",
            "2021-02-07 12:32:18.145235: I tensorflow/stream_executor/platform/default/dso_loader.cc:49] Successfully opened dynamic library libcudart.so.10.1\n",
            "2021-02-07 12:32:18.145262: I tensorflow/stream_executor/platform/default/dso_loader.cc:49] Successfully opened dynamic library libcublas.so.10\n",
            "2021-02-07 12:32:18.145287: I tensorflow/stream_executor/platform/default/dso_loader.cc:49] Successfully opened dynamic library libcublasLt.so.10\n",
            "2021-02-07 12:32:18.145311: I tensorflow/stream_executor/platform/default/dso_loader.cc:49] Successfully opened dynamic library libcufft.so.10\n",
            "2021-02-07 12:32:18.145330: I tensorflow/stream_executor/platform/default/dso_loader.cc:49] Successfully opened dynamic library libcurand.so.10\n",
            "2021-02-07 12:32:18.145367: I tensorflow/stream_executor/platform/default/dso_loader.cc:49] Successfully opened dynamic library libcusolver.so.10\n",
            "2021-02-07 12:32:18.145388: I tensorflow/stream_executor/platform/default/dso_loader.cc:49] Successfully opened dynamic library libcusparse.so.10\n",
            "2021-02-07 12:32:18.145410: I tensorflow/stream_executor/platform/default/dso_loader.cc:49] Successfully opened dynamic library libcudnn.so.7\n",
            "2021-02-07 12:32:18.145490: I tensorflow/stream_executor/cuda/cuda_gpu_executor.cc:941] successful NUMA node read from SysFS had negative value (-1), but there must be at least one NUMA node, so returning NUMA node zero\n",
            "2021-02-07 12:32:18.145995: I tensorflow/stream_executor/cuda/cuda_gpu_executor.cc:941] successful NUMA node read from SysFS had negative value (-1), but there must be at least one NUMA node, so returning NUMA node zero\n",
            "2021-02-07 12:32:18.146464: I tensorflow/core/common_runtime/gpu/gpu_device.cc:1862] Adding visible gpu devices: 0\n",
            "2021-02-07 12:32:18.146510: I tensorflow/stream_executor/platform/default/dso_loader.cc:49] Successfully opened dynamic library libcudart.so.10.1\n",
            "2021-02-07 12:32:18.871538: I tensorflow/core/common_runtime/gpu/gpu_device.cc:1261] Device interconnect StreamExecutor with strength 1 edge matrix:\n",
            "2021-02-07 12:32:18.871593: I tensorflow/core/common_runtime/gpu/gpu_device.cc:1267]      0 \n",
            "2021-02-07 12:32:18.871608: I tensorflow/core/common_runtime/gpu/gpu_device.cc:1280] 0:   N \n",
            "2021-02-07 12:32:18.871806: I tensorflow/stream_executor/cuda/cuda_gpu_executor.cc:941] successful NUMA node read from SysFS had negative value (-1), but there must be at least one NUMA node, so returning NUMA node zero\n",
            "2021-02-07 12:32:18.872335: I tensorflow/stream_executor/cuda/cuda_gpu_executor.cc:941] successful NUMA node read from SysFS had negative value (-1), but there must be at least one NUMA node, so returning NUMA node zero\n",
            "2021-02-07 12:32:18.872845: I tensorflow/stream_executor/cuda/cuda_gpu_executor.cc:941] successful NUMA node read from SysFS had negative value (-1), but there must be at least one NUMA node, so returning NUMA node zero\n",
            "2021-02-07 12:32:18.873292: W tensorflow/core/common_runtime/gpu/gpu_bfc_allocator.cc:39] Overriding allow_growth setting because the TF_FORCE_GPU_ALLOW_GROWTH environment variable is set. Original config value was 0.\n",
            "2021-02-07 12:32:18.873342: I tensorflow/core/common_runtime/gpu/gpu_device.cc:1406] Created TensorFlow device (/job:localhost/replica:0/task:0/device:GPU:0 with 11451 MB memory) -> physical GPU (device: 0, name: Tesla T4, pci bus id: 0000:00:04.0, compute capability: 7.5)\n",
            "2021-02-07 12:32:21.241559: I tensorflow/stream_executor/cuda/cuda_gpu_executor.cc:941] successful NUMA node read from SysFS had negative value (-1), but there must be at least one NUMA node, so returning NUMA node zero\n",
            "2021-02-07 12:32:21.242083: I tensorflow/core/grappler/devices.cc:69] Number of eligible GPUs (core count >= 8, compute capability >= 0.0): 1\n",
            "2021-02-07 12:32:21.242241: I tensorflow/core/grappler/clusters/single_machine.cc:356] Starting new session\n",
            "2021-02-07 12:32:21.242506: I tensorflow/compiler/jit/xla_gpu_device.cc:99] Not creating XLA devices, tf_xla_enable_xla_devices not set\n",
            "2021-02-07 12:32:21.242639: I tensorflow/stream_executor/cuda/cuda_gpu_executor.cc:941] successful NUMA node read from SysFS had negative value (-1), but there must be at least one NUMA node, so returning NUMA node zero\n",
            "2021-02-07 12:32:21.243107: I tensorflow/core/common_runtime/gpu/gpu_device.cc:1720] Found device 0 with properties: \n",
            "pciBusID: 0000:00:04.0 name: Tesla T4 computeCapability: 7.5\n",
            "coreClock: 1.59GHz coreCount: 40 deviceMemorySize: 14.73GiB deviceMemoryBandwidth: 298.08GiB/s\n",
            "2021-02-07 12:32:21.243153: I tensorflow/stream_executor/platform/default/dso_loader.cc:49] Successfully opened dynamic library libcudart.so.10.1\n",
            "2021-02-07 12:32:21.243197: I tensorflow/stream_executor/platform/default/dso_loader.cc:49] Successfully opened dynamic library libcublas.so.10\n",
            "2021-02-07 12:32:21.243218: I tensorflow/stream_executor/platform/default/dso_loader.cc:49] Successfully opened dynamic library libcublasLt.so.10\n",
            "2021-02-07 12:32:21.243238: I tensorflow/stream_executor/platform/default/dso_loader.cc:49] Successfully opened dynamic library libcufft.so.10\n",
            "2021-02-07 12:32:21.243259: I tensorflow/stream_executor/platform/default/dso_loader.cc:49] Successfully opened dynamic library libcurand.so.10\n",
            "2021-02-07 12:32:21.243278: I tensorflow/stream_executor/platform/default/dso_loader.cc:49] Successfully opened dynamic library libcusolver.so.10\n",
            "2021-02-07 12:32:21.243296: I tensorflow/stream_executor/platform/default/dso_loader.cc:49] Successfully opened dynamic library libcusparse.so.10\n",
            "2021-02-07 12:32:21.243315: I tensorflow/stream_executor/platform/default/dso_loader.cc:49] Successfully opened dynamic library libcudnn.so.7\n",
            "2021-02-07 12:32:21.243390: I tensorflow/stream_executor/cuda/cuda_gpu_executor.cc:941] successful NUMA node read from SysFS had negative value (-1), but there must be at least one NUMA node, so returning NUMA node zero\n",
            "2021-02-07 12:32:21.243896: I tensorflow/stream_executor/cuda/cuda_gpu_executor.cc:941] successful NUMA node read from SysFS had negative value (-1), but there must be at least one NUMA node, so returning NUMA node zero\n",
            "2021-02-07 12:32:21.244319: I tensorflow/core/common_runtime/gpu/gpu_device.cc:1862] Adding visible gpu devices: 0\n",
            "2021-02-07 12:32:21.244374: I tensorflow/core/common_runtime/gpu/gpu_device.cc:1261] Device interconnect StreamExecutor with strength 1 edge matrix:\n",
            "2021-02-07 12:32:21.244405: I tensorflow/core/common_runtime/gpu/gpu_device.cc:1267]      0 \n",
            "2021-02-07 12:32:21.244420: I tensorflow/core/common_runtime/gpu/gpu_device.cc:1280] 0:   N \n",
            "2021-02-07 12:32:21.244531: I tensorflow/stream_executor/cuda/cuda_gpu_executor.cc:941] successful NUMA node read from SysFS had negative value (-1), but there must be at least one NUMA node, so returning NUMA node zero\n",
            "2021-02-07 12:32:21.245025: I tensorflow/stream_executor/cuda/cuda_gpu_executor.cc:941] successful NUMA node read from SysFS had negative value (-1), but there must be at least one NUMA node, so returning NUMA node zero\n",
            "2021-02-07 12:32:21.245483: I tensorflow/core/common_runtime/gpu/gpu_device.cc:1406] Created TensorFlow device (/job:localhost/replica:0/task:0/device:GPU:0 with 11451 MB memory) -> physical GPU (device: 0, name: Tesla T4, pci bus id: 0000:00:04.0, compute capability: 7.5)\n",
            "2021-02-07 12:32:21.248025: I tensorflow/core/platform/profile_utils/cpu_utils.cc:112] CPU Frequency: 2199995000 Hz\n",
            "2021-02-07 12:32:21.296559: I tensorflow/core/grappler/optimizers/meta_optimizer.cc:928] Optimization results for grappler item: graph_to_optimize\n",
            "  function_optimizer: Graph size after: 1902 nodes (1637), 2966 edges (2701), time = 31.502ms.\n",
            "  function_optimizer: function_optimizer did nothing. time = 0.424ms.\n",
            "\n",
            "2021-02-07 12:32:23.050181: I tensorflow/core/grappler/optimizers/meta_optimizer.cc:928] Optimization results for grappler item: graph_to_optimize\n",
            "  debug_stripper: debug_stripper did nothing. time = 0.092ms.\n",
            "  model_pruner: Graph size after: 1477 nodes (-352), 2539 edges (-352), time = 9.662ms.\n",
            "  constant_folding: Graph size after: 695 nodes (-782), 1497 edges (-1042), time = 122.772ms.\n",
            "  arithmetic_optimizer: Graph size after: 695 nodes (0), 1497 edges (0), time = 18.212ms.\n",
            "  dependency_optimizer: Graph size after: 421 nodes (-274), 692 edges (-805), time = 16.73ms.\n",
            "  model_pruner: Graph size after: 421 nodes (0), 692 edges (0), time = 4.53ms.\n",
            "  constant_folding: Graph size after: 421 nodes (0), 692 edges (0), time = 13.815ms.\n",
            "  arithmetic_optimizer: Graph size after: 421 nodes (0), 692 edges (0), time = 10.17ms.\n",
            "  dependency_optimizer: Graph size after: 421 nodes (0), 692 edges (0), time = 4.422ms.\n",
            "  debug_stripper: debug_stripper did nothing. time = 0.34ms.\n",
            "  model_pruner: Graph size after: 421 nodes (0), 692 edges (0), time = 2.633ms.\n",
            "  constant_folding: Graph size after: 421 nodes (0), 692 edges (0), time = 12.614ms.\n",
            "  arithmetic_optimizer: Graph size after: 421 nodes (0), 692 edges (0), time = 10.467ms.\n",
            "  dependency_optimizer: Graph size after: 421 nodes (0), 692 edges (0), time = 4.409ms.\n",
            "  model_pruner: Graph size after: 421 nodes (0), 692 edges (0), time = 3.039ms.\n",
            "  constant_folding: Graph size after: 421 nodes (0), 692 edges (0), time = 13.802ms.\n",
            "  arithmetic_optimizer: Graph size after: 421 nodes (0), 692 edges (0), time = 11ms.\n",
            "  dependency_optimizer: Graph size after: 421 nodes (0), 692 edges (0), time = 4.58ms.\n",
            "\n",
            "2021-02-07 12:32:29.442536: I tensorflow/core/grappler/optimizers/meta_optimizer.cc:928] Optimization results for grappler item: graph_to_optimize\n",
            "  remapper: Graph size after: 419 nodes (-54), 430 edges (-54), time = 1.983ms.\n",
            "  constant_folding: Graph size after: 211 nodes (-208), 222 edges (-208), time = 12.463ms.\n",
            "  arithmetic_optimizer: Graph size after: 211 nodes (0), 222 edges (0), time = 4.579ms.\n",
            "  dependency_optimizer: Graph size after: 211 nodes (0), 222 edges (0), time = 1.301ms.\n",
            "  remapper: Graph size after: 211 nodes (0), 222 edges (0), time = 0.632ms.\n",
            "  constant_folding: Graph size after: 211 nodes (0), 222 edges (0), time = 4.512ms.\n",
            "  arithmetic_optimizer: Graph size after: 211 nodes (0), 222 edges (0), time = 4.027ms.\n",
            "  dependency_optimizer: Graph size after: 211 nodes (0), 222 edges (0), time = 1.202ms.\n",
            "\n",
            "Writing weight file /mobilenet/web_model/model.json...\n"
          ],
          "name": "stdout"
        }
      ]
    },
    {
      "cell_type": "markdown",
      "metadata": {
        "id": "LX6BXX6U_oSN"
      },
      "source": [
        "*Machine Learning Engineering 2021*\r\n",
        "\r\n",
        "*Lorenzo Rondán & Andrés Martinez*"
      ]
    }
  ]
}